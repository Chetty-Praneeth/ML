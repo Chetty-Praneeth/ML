{
 "cells": [
  {
   "cell_type": "code",
   "execution_count": 4,
   "id": "3afb5b3c-8bc9-4bce-a209-79153502a76e",
   "metadata": {},
   "outputs": [
    {
     "data": {
      "text/html": [
       "<div>\n",
       "<style scoped>\n",
       "    .dataframe tbody tr th:only-of-type {\n",
       "        vertical-align: middle;\n",
       "    }\n",
       "\n",
       "    .dataframe tbody tr th {\n",
       "        vertical-align: top;\n",
       "    }\n",
       "\n",
       "    .dataframe thead th {\n",
       "        text-align: right;\n",
       "    }\n",
       "</style>\n",
       "<table border=\"1\" class=\"dataframe\">\n",
       "  <thead>\n",
       "    <tr style=\"text-align: right;\">\n",
       "      <th></th>\n",
       "      <th>x</th>\n",
       "      <th>y</th>\n",
       "      <th>z</th>\n",
       "      <th>label</th>\n",
       "    </tr>\n",
       "  </thead>\n",
       "  <tbody>\n",
       "    <tr>\n",
       "      <th>0</th>\n",
       "      <td>-3.732071</td>\n",
       "      <td>9.550622</td>\n",
       "      <td>3.725188</td>\n",
       "      <td>0</td>\n",
       "    </tr>\n",
       "    <tr>\n",
       "      <th>1</th>\n",
       "      <td>-7.874477</td>\n",
       "      <td>8.297080</td>\n",
       "      <td>3.408204</td>\n",
       "      <td>2</td>\n",
       "    </tr>\n",
       "    <tr>\n",
       "      <th>2</th>\n",
       "      <td>1.864541</td>\n",
       "      <td>-6.935112</td>\n",
       "      <td>-6.620720</td>\n",
       "      <td>1</td>\n",
       "    </tr>\n",
       "    <tr>\n",
       "      <th>3</th>\n",
       "      <td>4.020569</td>\n",
       "      <td>-6.764766</td>\n",
       "      <td>-5.328847</td>\n",
       "      <td>1</td>\n",
       "    </tr>\n",
       "    <tr>\n",
       "      <th>4</th>\n",
       "      <td>-7.945917</td>\n",
       "      <td>7.419143</td>\n",
       "      <td>1.137484</td>\n",
       "      <td>2</td>\n",
       "    </tr>\n",
       "  </tbody>\n",
       "</table>\n",
       "</div>"
      ],
      "text/plain": [
       "          x         y         z  label\n",
       "0 -3.732071  9.550622  3.725188      0\n",
       "1 -7.874477  8.297080  3.408204      2\n",
       "2  1.864541 -6.935112 -6.620720      1\n",
       "3  4.020569 -6.764766 -5.328847      1\n",
       "4 -7.945917  7.419143  1.137484      2"
      ]
     },
     "execution_count": 4,
     "metadata": {},
     "output_type": "execute_result"
    }
   ],
   "source": [
    "import pandas as pd\n",
    "from sklearn.datasets import make_blobs\n",
    "from sklearn.model_selection import train_test_split\n",
    "from sklearn.linear_model import LogisticRegression\n",
    "from sklearn.metrics import classification_report\n",
    "\n",
    "# Generate synthetic data\n",
    "X, y = make_blobs(n_samples=200, centers=3, n_features=3, random_state=42)\n",
    "\n",
    "# Create a DataFrame\n",
    "df = pd.DataFrame(dict(x=X[:, 0], y=X[:, 1], z=X[:, 2], label=y))\n",
    "\n",
    "# Display top 5 rows\n",
    "df.head()\n",
    "\n",
    "\n"
   ]
  },
  {
   "cell_type": "code",
   "execution_count": 10,
   "id": "97786e69-652d-455c-a774-afb7b9318eb5",
   "metadata": {},
   "outputs": [
    {
     "name": "stdout",
     "output_type": "stream",
     "text": [
      "=== Classification Report ===\n",
      "              precision    recall  f1-score   support\n",
      "\n",
      "           0       1.00      1.00      1.00        28\n",
      "           1       1.00      1.00      1.00        28\n",
      "           2       1.00      1.00      1.00        24\n",
      "\n",
      "    accuracy                           1.00        80\n",
      "   macro avg       1.00      1.00      1.00        80\n",
      "weighted avg       1.00      1.00      1.00        80\n",
      "\n"
     ]
    }
   ],
   "source": [
    "# Split data into training and testing sets\n",
    "X_train, X_test, y_train, y_test = train_test_split(X, y, test_size=0.4, random_state=0)\n",
    "\n",
    "# Train a logistic regression model\n",
    "model = LogisticRegression()  # Increased iterations for convergence\n",
    "model.fit(X_train, y_train)\n",
    "\n",
    "# Predict and print classification report\n",
    "predicted = model.predict(X_test)\n",
    "print(\"=== Classification Report ===\")\n",
    "report_str = classification_report(y_test,predicted)\n",
    "print(report_str)"
   ]
  },
  {
   "cell_type": "code",
   "execution_count": null,
   "id": "3b4fa84a-c2de-4fb8-9533-51251504fc7f",
   "metadata": {},
   "outputs": [],
   "source": []
  }
 ],
 "metadata": {
  "kernelspec": {
   "display_name": "Python 3 (ipykernel)",
   "language": "python",
   "name": "python3"
  },
  "language_info": {
   "codemirror_mode": {
    "name": "ipython",
    "version": 3
   },
   "file_extension": ".py",
   "mimetype": "text/x-python",
   "name": "python",
   "nbconvert_exporter": "python",
   "pygments_lexer": "ipython3",
   "version": "3.12.9"
  }
 },
 "nbformat": 4,
 "nbformat_minor": 5
}
